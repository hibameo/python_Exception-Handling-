{
  "nbformat": 4,
  "nbformat_minor": 0,
  "metadata": {
    "colab": {
      "provenance": [],
      "authorship_tag": "ABX9TyPMQ4QoJYAxaeEtis8Mt43A",
      "include_colab_link": true
    },
    "kernelspec": {
      "name": "python3",
      "display_name": "Python 3"
    },
    "language_info": {
      "name": "python"
    }
  },
  "cells": [
    {
      "cell_type": "markdown",
      "metadata": {
        "id": "view-in-github",
        "colab_type": "text"
      },
      "source": [
        "<a href=\"https://colab.research.google.com/github/hibameo/python_Exception-Handling-/blob/main/Exception_Handling_.ipynb\" target=\"_parent\"><img src=\"https://colab.research.google.com/assets/colab-badge.svg\" alt=\"Open In Colab\"/></a>"
      ]
    },
    {
      "cell_type": "markdown",
      "source": [
        "Exception handling ka matlab hai kisi bhi unexpected error ya problem ko handle karna jab program run ho raha ho. Python mein exception handling try, except, else, aur finally blocks ke zariye ki jati hai."
      ],
      "metadata": {
        "id": "U3jFzSoCDSG3"
      }
    },
    {
      "cell_type": "markdown",
      "source": [
        "1. try Block:\n",
        "Yeh block wo code rakhta hai jo aapko lagta hai ke error kar sakta hai.\n",
        "\n",
        "Agar is block mein koi error hoti hai, to program usko handle karega aur directly except block ko execute karega."
      ],
      "metadata": {
        "id": "43lvlZpUDVlz"
      }
    },
    {
      "cell_type": "markdown",
      "source": [
        "2. except Block:\n",
        "Agar try block mein koi error hoti hai, to yeh block execute hota hai.\n",
        "\n",
        "Aap specific errors bhi handle kar sakte hain, jaise ZeroDivisionError, ValueError, etc."
      ],
      "metadata": {
        "id": "XXXx8xnhDZeK"
      }
    },
    {
      "cell_type": "markdown",
      "source": [
        "3. else Block:\n",
        "Agar try block mein koi error nahi hoti, to yeh block execute hota hai.\n",
        "\n",
        "Yeh optional hota hai aur sirf tab use hota hai jab aapko chahiye ke error na ho to kuch aur execute ho."
      ],
      "metadata": {
        "id": "lhHy1_bNDdxS"
      }
    },
    {
      "cell_type": "markdown",
      "source": [
        "4. finally Block:\n",
        "Yeh block hamesha execute hota hai, chahe error ho ya na ho.\n",
        "\n",
        "Yeh block usually wo code rakhta hai jo aapko cleanup karna ho, jaise file close karna ya database connection band karna."
      ],
      "metadata": {
        "id": "Bc7QCPdnDnlI"
      }
    },
    {
      "cell_type": "markdown",
      "source": [
        "Example:"
      ],
      "metadata": {
        "id": "lTP-fyDIDrHc"
      }
    },
    {
      "cell_type": "code",
      "source": [
        "try:\n",
        "    x = 10 / 0  # Division by zero (error)\n",
        "except ZeroDivisionError:\n",
        "    print(\"Error: Division by zero!\")\n",
        "else:\n",
        "    print(\"No error occurred!\")\n",
        "finally:\n",
        "    print(\"This will always execute.\")\n"
      ],
      "metadata": {
        "colab": {
          "base_uri": "https://localhost:8080/"
        },
        "id": "rSoQDl4HDp3l",
        "outputId": "cdfc9034-44d8-4650-d759-03874e16e2bb"
      },
      "execution_count": 1,
      "outputs": [
        {
          "output_type": "stream",
          "name": "stdout",
          "text": [
            "Error: Division by zero!\n",
            "This will always execute.\n"
          ]
        }
      ]
    },
    {
      "cell_type": "markdown",
      "source": [
        "Is example mein, jab 10 / 0 execute hoga, to ZeroDivisionError raise hoga aur except block execute hoga. else block tabhi run hoga agar koi error na ho, aur finally block hamesha execute hoga."
      ],
      "metadata": {
        "id": "wkxuoVYpD0KH"
      }
    },
    {
      "cell_type": "markdown",
      "source": [
        "Output:"
      ],
      "metadata": {
        "id": "6qetUF13D2eY"
      }
    },
    {
      "cell_type": "code",
      "source": [
        "#Error: Division by zero!\n",
        "#This will always execute.\n"
      ],
      "metadata": {
        "id": "iT-CJZW1D6cB"
      },
      "execution_count": 3,
      "outputs": []
    },
    {
      "cell_type": "markdown",
      "source": [
        "Is tareeqay se aap apne program ko errors se bachane aur handle karne ke liye exception handling ka use kar sakte ho."
      ],
      "metadata": {
        "id": "WwbTviIgEG3N"
      }
    }
  ]
}